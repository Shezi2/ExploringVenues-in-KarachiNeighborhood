{
 "cells": [
  {
   "cell_type": "code",
   "execution_count": 1,
   "metadata": {},
   "outputs": [],
   "source": [
    "from bs4 import BeautifulSoup\n",
    "import requests\n",
    "import pandas as pd\n",
    "import numpy as np"
   ]
  },
  {
   "cell_type": "code",
   "execution_count": 3,
   "metadata": {},
   "outputs": [],
   "source": [
    "source = requests.get('https://en.wikipedia.org/wiki/List_of_Union_Councils_of_Karachi').text\n",
    "soup = BeautifulSoup(source,'lxml')\n",
    "uc_tab = soup.find('div', class_='toc').ul\n",
    "district = []\n",
    "for lis in uc_tab.find_all('li',class_='toclevel-2'):\n",
    "    district.append(lis.find('span', class_='toctext').text)"
   ]
  },
  {
   "cell_type": "code",
   "execution_count": 132,
   "metadata": {},
   "outputs": [
    {
     "data": {
      "text/plain": [
       "['Baldia Town',\n",
       " 'Bin Qasim Town',\n",
       " 'Gadap Town',\n",
       " 'Gulberg Town',\n",
       " 'Gulshan Town',\n",
       " 'Jamshed Town',\n",
       " 'Kemari Town',\n",
       " 'Korangi Town',\n",
       " 'Landhi Town',\n",
       " 'Liaquatabad Town',\n",
       " 'Lyari Town',\n",
       " 'Malir Town',\n",
       " 'New Karachi Town',\n",
       " 'North Nazimabad Town',\n",
       " 'Orangi Town',\n",
       " 'Saddar Town',\n",
       " 'Shah Faisal Town',\n",
       " 'S.I.T.E. Town (Sindh Industrial & Trading Estate)']"
      ]
     },
     "execution_count": 132,
     "metadata": {},
     "output_type": "execute_result"
    }
   ],
   "source": [
    "district"
   ]
  },
  {
   "cell_type": "markdown",
   "metadata": {},
   "source": [
    "## for town"
   ]
  },
  {
   "cell_type": "code",
   "execution_count": 21,
   "metadata": {},
   "outputs": [],
   "source": [
    "town = []\n",
    "districts = [] \n",
    "dist_and_town = {}\n",
    "for dis_links in district:\n",
    "    source2 = requests.get('https://en.wikipedia.org/wiki/{}'.format(dis_links)).text\n",
    "    soup2 = BeautifulSoup(source2,'lxml')\n",
    "    try:\n",
    "        neigh_tab = soup2.find('div',class_='div-col columns column-width')\n",
    "        for lis2 in neigh_tab.find_all('li'):\n",
    "            town.append(lis2.text)\n",
    "            districts.append(dis_links)\n",
    "    except Exception as e:\n",
    "        pass\n",
    "\n",
    "dist_and_town = {'Districts':districts,'Town':town}"
   ]
  },
  {
   "cell_type": "markdown",
   "metadata": {},
   "source": [
    "## create dataframe"
   ]
  },
  {
   "cell_type": "code",
   "execution_count": 54,
   "metadata": {},
   "outputs": [
    {
     "data": {
      "text/html": [
       "<div>\n",
       "<style scoped>\n",
       "    .dataframe tbody tr th:only-of-type {\n",
       "        vertical-align: middle;\n",
       "    }\n",
       "\n",
       "    .dataframe tbody tr th {\n",
       "        vertical-align: top;\n",
       "    }\n",
       "\n",
       "    .dataframe thead th {\n",
       "        text-align: right;\n",
       "    }\n",
       "</style>\n",
       "<table border=\"1\" class=\"dataframe\">\n",
       "  <thead>\n",
       "    <tr style=\"text-align: right;\">\n",
       "      <th></th>\n",
       "      <th>Districts</th>\n",
       "      <th>Town</th>\n",
       "    </tr>\n",
       "  </thead>\n",
       "  <tbody>\n",
       "    <tr>\n",
       "      <th>0</th>\n",
       "      <td>Bin Qasim Town</td>\n",
       "      <td>Abdullah Goth</td>\n",
       "    </tr>\n",
       "    <tr>\n",
       "      <th>1</th>\n",
       "      <td>Bin Qasim Town</td>\n",
       "      <td>Cattle Colony</td>\n",
       "    </tr>\n",
       "    <tr>\n",
       "      <th>2</th>\n",
       "      <td>Bin Qasim Town</td>\n",
       "      <td>Gaghar</td>\n",
       "    </tr>\n",
       "    <tr>\n",
       "      <th>3</th>\n",
       "      <td>Bin Qasim Town</td>\n",
       "      <td>Green Park City</td>\n",
       "    </tr>\n",
       "    <tr>\n",
       "      <th>4</th>\n",
       "      <td>Bin Qasim Town</td>\n",
       "      <td>Gulshan-e-Hadeed</td>\n",
       "    </tr>\n",
       "  </tbody>\n",
       "</table>\n",
       "</div>"
      ],
      "text/plain": [
       "        Districts              Town\n",
       "0  Bin Qasim Town     Abdullah Goth\n",
       "1  Bin Qasim Town     Cattle Colony\n",
       "2  Bin Qasim Town            Gaghar\n",
       "3  Bin Qasim Town   Green Park City\n",
       "4  Bin Qasim Town  Gulshan-e-Hadeed"
      ]
     },
     "execution_count": 54,
     "metadata": {},
     "output_type": "execute_result"
    }
   ],
   "source": [
    "df_khi = pd.DataFrame(dist_and_town)\n",
    "df_khi.head()"
   ]
  },
  {
   "cell_type": "code",
   "execution_count": null,
   "metadata": {},
   "outputs": [],
   "source": []
  }
 ],
 "metadata": {
  "kernelspec": {
   "display_name": "Python 3",
   "language": "python",
   "name": "python3"
  },
  "language_info": {
   "codemirror_mode": {
    "name": "ipython",
    "version": 3
   },
   "file_extension": ".py",
   "mimetype": "text/x-python",
   "name": "python",
   "nbconvert_exporter": "python",
   "pygments_lexer": "ipython3",
   "version": "3.7.4"
  }
 },
 "nbformat": 4,
 "nbformat_minor": 4
}
